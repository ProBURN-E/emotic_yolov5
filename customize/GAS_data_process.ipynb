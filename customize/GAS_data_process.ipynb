{
 "cells": [
  {
   "attachments": {},
   "cell_type": "markdown",
   "metadata": {},
   "source": [
    "### GAS process is too slow and not stable, so we recommend to process locally"
   ]
  },
  {
   "cell_type": "code",
   "execution_count": 1,
   "metadata": {
    "scrolled": true
   },
   "outputs": [
    {
     "data": {
      "application/vnd.jupyter.widget-view+json": {
       "model_id": "08a91533493c483c86e005f983250d63",
       "version_major": 2,
       "version_minor": 0
      },
      "text/plain": [
       "  0%|          | 0/2088 [00:00<?, ?it/s]"
      ]
     },
     "metadata": {},
     "output_type": "display_data"
    },
    {
     "name": "stderr",
     "output_type": "stream",
     "text": [
      "C:\\Users\\BURN-E\\AppData\\Roaming\\Python\\Python37\\site-packages\\ipykernel_launcher.py:50: VisibleDeprecationWarning: Creating an ndarray from ragged nested sequences (which is a list-or-tuple of lists-or-tuples-or ndarrays with different lengths or shapes) is deprecated. If you meant to do this, you must specify 'dtype=object' when creating the ndarray.\n"
     ]
    },
    {
     "name": "stdout",
     "output_type": "stream",
     "text": [
      "Traceback (most recent call last):\n",
      "  File \"C:\\Users\\BURN-E\\AppData\\Local\\Temp/ipykernel_436/560295064.py\", line 50, in <module>\n",
      "    context_arr = np.array(context_arr)\n",
      "ValueError: could not broadcast input array from shape (224,224,3) into shape (224,224)\n",
      "\n"
     ]
    }
   ],
   "source": [
    "import os\n",
    "\n",
    "import cv2\n",
    "import numpy as np\n",
    "from PIL import Image\n",
    "from tensorbay import GAS\n",
    "from tensorbay.dataset import Dataset\n",
    "from tqdm.notebook import tqdm\n",
    "import traceback\n",
    "\n",
    "def cat_to_one_hot(y_cat):\n",
    "    cat2ind = {'Affection': 0, 'Anger': 1, 'Annoyance': 2, 'Anticipation': 3, 'Aversion': 4,\n",
    "               'Confidence': 5, 'Disapproval': 6, 'Disconnection': 7, 'Disquietment': 8,\n",
    "               'Doubt/Confusion': 9, 'Embarrassment': 10, 'Engagement': 11, 'Esteem': 12,\n",
    "               'Excitement': 13, 'Fatigue': 14, 'Fear': 15, 'Happiness': 16, 'Pain': 17,\n",
    "               'Peace': 18, 'Pleasure': 19, 'Sadness': 20, 'Sensitivity': 21, 'Suffering': 22,\n",
    "               'Surprise': 23, 'Sympathy': 24, 'Yearning': 25}\n",
    "    one_hot_cat = np.zeros(26)\n",
    "    for em in y_cat:\n",
    "        one_hot_cat[cat2ind[em]] = 1\n",
    "    return one_hot_cat\n",
    "\n",
    "gas = GAS('ACCESSKEY-05008025a6e33eb2cb23dddb819d123a')\n",
    "dataset = Dataset(\"Emotic\", gas)\n",
    "segments = dataset.keys()\n",
    "save_dir = './data/emotic_pre'\n",
    "if not os.path.exists(save_dir):\n",
    "    os.makedirs(save_dir)\n",
    "try:\n",
    "    for seg in ['test', 'val', 'train']:\n",
    "        segment = dataset[seg]\n",
    "        context_arr, body_arr, cat_arr, cont_arr = [], [], [], []-\n",
    "        for data in tqdm(segment):\n",
    "            with data.open() as fp:\n",
    "                context = np.asarray(Image.open(fp))\n",
    "            if len(context.shape) == 2:\n",
    "                context = cv2.cvtColor(context, cv2.COLOR_GRAY2RGB)\n",
    "            context_cv = cv2.resize(context, (224, 224))\n",
    "            for label_box2d in data.label.box2d:\n",
    "                xmin = label_box2d.xmin\n",
    "                ymin = label_box2d.ymin\n",
    "                xmax = label_box2d.xmax\n",
    "                ymax = label_box2d.ymax\n",
    "                body = context[ymin:ymax, xmin:xmax]\n",
    "                body_cv = cv2.resize(body, (128, 128))\n",
    "                context_arr.append(context_cv)\n",
    "                body_arr.append(body_cv)\n",
    "                cont_arr.append(np.array([int(label_box2d.attributes['valence']), int(label_box2d.attributes['arousal']), int(label_box2d.attributes['dominance'])]))\n",
    "                cat_arr.append(np.array(cat_to_one_hot(label_box2d.attributes['categories'])))\n",
    "        context_arr = np.array(context_arr)\n",
    "        body_arr = np.array(body_arr)\n",
    "        cat_arr = np.array(cat_arr)\n",
    "        cont_arr = np.array(cont_arr)\n",
    "        np.save(os.path.join(save_dir, '%s_context_arr.npy' % (seg)), context_arr)\n",
    "        np.save(os.path.join(save_dir, '%s_body_arr.npy' % (seg)), body_arr)\n",
    "        np.save(os.path.join(save_dir, '%s_cat_arr.npy' % (seg)), cat_arr)\n",
    "        np.save(os.path.join(save_dir, '%s_cont_arr.npy' % (seg)), cont_arr) \n",
    "except Exception as e:\n",
    "    print(traceback.format_exc())"
   ]
  },
  {
   "cell_type": "code",
   "execution_count": 2,
   "metadata": {},
   "outputs": [],
   "source": [
    "def reshape_for_save(arr, common_shape, name):\n",
    "    arr_copy = arr.copy()\n",
    "    for i in range(len(arr_copy)):\n",
    "        if arr_copy[i].shape != common_shape:\n",
    "            print(i)\n",
    "            arr_copy[i] = arr[i][:,:,:3]\n",
    "    arr_copy = np.array(arr_copy)\n",
    "    np.save(os.path.join(save_dir, f'{seg}_{name}_arr.npy'), arr_copy)"
   ]
  },
  {
   "cell_type": "code",
   "execution_count": 3,
   "metadata": {},
   "outputs": [
    {
     "name": "stdout",
     "output_type": "stream",
     "text": [
      "2550\n",
      "2562\n",
      "2563\n",
      "2564\n",
      "2631\n",
      "2550\n",
      "2562\n",
      "2563\n",
      "2564\n",
      "2631\n"
     ]
    }
   ],
   "source": [
    "context_arr = reshape_for_save(context_arr,(224,224,3),'context')\n",
    "body_arr = reshape_for_save(body_arr,(128,128,3),'body')"
   ]
  },
  {
   "cell_type": "code",
   "execution_count": 5,
   "metadata": {},
   "outputs": [],
   "source": [
    "cat_arr = np.array(cat_arr)\n",
    "cont_arr = np.array(cont_arr)\n",
    "np.save(os.path.join(save_dir, '%s_cat_arr.npy' % (seg)), cat_arr)\n",
    "np.save(os.path.join(save_dir, '%s_cont_arr.npy' % (seg)), cont_arr) "
   ]
  }
 ],
 "metadata": {
  "kernelspec": {
   "display_name": "Python 3 (ipykernel)",
   "language": "python",
   "name": "python3"
  },
  "language_info": {
   "codemirror_mode": {
    "name": "ipython",
    "version": 3
   },
   "file_extension": ".py",
   "mimetype": "text/x-python",
   "name": "python",
   "nbconvert_exporter": "python",
   "pygments_lexer": "ipython3",
   "version": "3.7.13"
  },
  "vscode": {
   "interpreter": {
    "hash": "fe99c7a3d9c5a72120c1dc4c1758353f9ed994ef6fa676c0e60a8b74fa178187"
   }
  }
 },
 "nbformat": 4,
 "nbformat_minor": 2
}
